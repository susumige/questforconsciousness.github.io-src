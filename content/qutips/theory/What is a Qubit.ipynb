{
 "cells": [
  {
   "cell_type": "markdown",
   "metadata": {},
   "source": [
    "A classical bit is a basic unit in digital world which can store a binary value 0 or 1.\n",
    "\n",
    "What is different between a quantum bit and a classical bit, is that a classical bit is either in state 0 or state 1. In contrast, a quantum bit can be prepared in what is called a superposition state, which is somewhere in between 0 and 1.\n",
    "\n",
    "The state of a qubit can be represented by α|0⟩+β|1⟩, a linear superposition of the two possible states.\n",
    "\n",
    "|0⟩ and |1⟩ are the two orthogonal basis vectors that are encoded as:\n",
    "\n",
    "|0⟩ = [1/0]\n",
    "\n",
    "|1⟩ = [0/1]"
   ]
  }
 ],
 "metadata": {
  "kernelspec": {
   "display_name": "Python 3",
   "language": "python",
   "name": "python3"
  },
  "language_info": {
   "codemirror_mode": {
    "name": "ipython",
    "version": 3
   },
   "file_extension": ".py",
   "mimetype": "text/x-python",
   "name": "python",
   "nbconvert_exporter": "python",
   "pygments_lexer": "ipython3",
   "version": "3.6.9"
  }
 },
 "nbformat": 4,
 "nbformat_minor": 2
}
