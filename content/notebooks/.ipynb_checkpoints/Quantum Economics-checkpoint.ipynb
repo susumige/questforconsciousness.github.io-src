{
 "cells": [
  {
   "cell_type": "markdown",
   "metadata": {},
   "source": [
    "When, at the beginning of the 20th century, scientists peeked into the world of elementary particles, molecules, and atoms, they realized that some different, counter-intuitive laws exist there. That's how [Quantum Mechanics](https://en.wikipedia.org/wiki/Quantum_mechanics#:~:text=Quantum%20mechanics%20is%20a%20fundamental,technology%2C%20and%20quantum%20information%20science.) developed as a separate field in physics.\n",
    "\n",
    "Two basic principles in quantum mechanics are [Superposition](https://en.wikipedia.org/wiki/Quantum_superposition) and [Entaglement](https://en.wikipedia.org/wiki/Quantum_entanglement#:~:text=Quantum%20entanglement%20is%20a%20physical,including%20when%20the%20particles%20are) of particles. Superposition is often explained by the [Schrödinger paradox](https://en.wikipedia.org/wiki/Schr%C3%B6dinger%27s_cat), i.e., by the cat that is simultaneously alive and dead. While the entaglement of particles phenomenon is that two or more particles always have the same characteristics regardless of the distance, which led to the idea that there are parallel universes. Quantum theory is so complex that it is best described by [Richard Feynman's](https://en.wikipedia.org/wiki/Richard_Feynman) statement:\" If you think you understand quantum mechanics, you don't understand quantum mechanics.\"\n",
    "\n",
    "These two examples and the assumption that something like that is possible probably sound like science fiction, but in fact, it is more science than fiction. If you truly love fiction (science) and want to learn more about this area, I suggest watching the TV show [Devs](https://www.imdb.com/title/tt8134186/). \n",
    "\n",
    "Although decades later, most of the Nobel prizes in Physics were given for the discoveries in this area, it hasn't been until the 80s of the last century that the first application of these laws was identified in everyday life. That is when the idea to use these laws for creating a computer based on quantum mechanics principles emerged. Once again, it took almost two decades to reach the technology level necessary for creating the first quantum computer prototype.\n"
   ]
  },
  {
   "cell_type": "markdown",
   "metadata": {},
   "source": [
    "#### Will we ever use quantum computers? When? How do they operate?"
   ]
  },
  {
   "cell_type": "markdown",
   "metadata": {},
   "source": [
    "Quantum computers operate on the qubits principle, which is equivalent to one bit in classic computers. The difference between bit and qubit is that bit can only have two states, 0 or 1, while one qubit has infinitely many states. Due to this trait, with the increase in the number of qubits, quantum computers' speed exponentially increases. It exactly means that the quantum computer with a couple of dozen qubits can do more operations than the existing classical super-computer. This leads us to the term [\"Quantum Supremacy\"](https://en.wikipedia.org/wiki/Quantum_supremacy), which is defined as a moment or reaching the point when one quantum computer will be able to solve the problem the fastest classical computer can't solve in an acceptable timeframe for that scope of the problem. \n",
    "\n",
    "Maybe one day we will be using the real quantum computer in out office, but it won't happen soon. For now, due to specific conditions required, these types of computers can only exist under strictly controlled conditions. The more feasible application of these computers in the near future will be tu use it as a service only for a specific  tasks. For example, password encrypting and using those kinds of operations only when necessary.\n"
   ]
  },
  {
   "cell_type": "markdown",
   "metadata": {},
   "source": [
    "#### Where are we now, and what can we do to better prepare ourselves for the quantum revolution?"
   ]
  },
  {
   "cell_type": "markdown",
   "metadata": {},
   "source": [
    "As of now, we are transitioning from theory into research and development (R&D). The main question all prominent universities and technology companies are now dealing with is how to transfer quantum technologies from the academy to the industry.\n",
    "\n",
    "Several big companies made quantum computers with a severe number of qubits for solving specific problems, and they are available to anyone [who wants to research this area](https://quantum-computing.ibm.com/). There are indications that we will have a 1000 qubit computer by 2023. and in ten years, a million-qubit computer. With that, it appears that some new [Moore's law](https://en.wikipedia.org/wiki/Moore%27s_law) is being applied in this area as well. \n",
    "\n",
    "Investments in this area are significantly increasing every year. Although there are still a tiny number of companies that are using quantum technology for commercial purposes, all big companies and funds want to prepare as much as possible and become \"Quantum ready.\"\n",
    "\n",
    "Probably the most meaningful process happening right now is the education and preparation of young people who will lead the quantum revolution in the future. Those are, first of all, thousands of students from different universities. Also, there are more and more examples of education and courses being present in high schools since it's estimated that only those generations will understand this technology's potential. A large amount of money is being invested in education, and I think this is one of the most specific things that every country should also start doing as soon as possible.\n"
   ]
  },
  {
   "cell_type": "markdown",
   "metadata": {},
   "source": [
    "#### What are the application areas of quantum technology?"
   ]
  },
  {
   "cell_type": "markdown",
   "metadata": {},
   "source": [
    "Even though it appears that the closest and the most understandable application of quantum mechanics to us is precisely the quantum computers and quantum programming, there are actually a series of other areas where probably the laws of quantum mechanics will be applicable even quicker. \n",
    "\n",
    "Some of the applications of quantum technology that are easy to understand are:\n",
    "\n",
    "* **Communications** - almost immediate and safe transfer of information which is impossible to spy\n",
    "* Super precise **sensors** in the industry\n",
    "* The corner-peeking camera\n",
    "\n",
    "As for quantum programming, it will significantly improve many areas in the next ten or so years. \n",
    " \n",
    "Some of the most significant applications are:\n",
    " \n",
    "* **Pharmaceutical manufacturing** - much faster manufacturing of new antibiotics;\n",
    "* **Financial models** for the stock market - much quicker and more precise decision making;\n",
    "* **Artificial intelligence** (machine learning) - exponential improvement of the algorithm efficiency;\n",
    "* **Traffic optimization** - processing a high number of vehicle parameters, GPS systems, and real-time maps.\n",
    " \n",
    "Let's go back to the beginning; the title of this article. The Quantum revolution happening right now will at some point turn into **Quantum Economics**. Until then, there will be many changes in our everyday lives caused by applying these technologies. Some of the jobs we're currently doing will go under significant changes or become unnecessary since super fast algorithms will overtake the human role. Nevertheless, we still have enough time to prepare ourselves and get used to all those changes.\n"
   ]
  }
 ],
 "metadata": {
  "kernelspec": {
   "display_name": "Python 3",
   "language": "python",
   "name": "python3"
  },
  "language_info": {
   "codemirror_mode": {
    "name": "ipython",
    "version": 3
   },
   "file_extension": ".py",
   "mimetype": "text/x-python",
   "name": "python",
   "nbconvert_exporter": "python",
   "pygments_lexer": "ipython3",
   "version": "3.8.5"
  }
 },
 "nbformat": 4,
 "nbformat_minor": 4
}
