{
 "cells": [
  {
   "cell_type": "markdown",
   "metadata": {},
   "source": [
    "We will implement a simple flip-coin game using the Hadamard gate in three different ways. [The Hadamard gate](/qutips/the-hadamard-gate.html) is the simplest method for generating a random bit in a qubit. If you then attempt to measure that qubit the quantum state collapses into either a 0 or a 1 with equal probability, generating a single random bit."
   ]
  },
  {
   "cell_type": "markdown",
   "metadata": {},
   "source": [
    "In all three scripts we will use a small input method which will aks for your guess, and store your input into variable **guess**. Also, we will set a constant **tosses** to value 15 (number of tries)."
   ]
  },
  {
   "cell_type": "markdown",
   "metadata": {},
   "source": [
    "#### Approach-1"
   ]
  },
  {
   "cell_type": "markdown",
   "metadata": {},
   "source": [
    "In this approach we will use Aer simulator to measure state vector. We will create a circuit with only one qubit, and we will execute it and measure the state vector for the number of tosses. Number of heads and tails will be increased by the result state vector. "
   ]
  },
  {
   "cell_type": "markdown",
   "metadata": {},
   "source": [
    "```python\n",
    "from qiskit import QuantumCircuit, Aer, execute\n",
    "import numpy as np\n",
    "\n",
    "qc = QuantumCircuit(1)  # quantum circuit with one qubit\n",
    "qc.h(0)  # applying Hadamard gate\n",
    "qc.measure_all()\n",
    "\n",
    "for i in range(tosses):\n",
    "    backend = Aer.get_backend('statevector_simulator')\n",
    "    result = execute(qc, backend).result()\n",
    "\n",
    "    coin = result.get_statevector()\n",
    "\n",
    "    if np.all(coin == np.array([0., 1.])):\n",
    "        heads = heads + 1\n",
    "    else:\n",
    "        tails = tails + 1\n",
    "\n",
    "```"
   ]
  },
  {
   "cell_type": "markdown",
   "metadata": {},
   "source": [
    "#### Approach-2"
   ]
  },
  {
   "cell_type": "markdown",
   "metadata": {},
   "source": [
    "In this second approach we will create again a single qubit circuit, but this time we will run it on IBMQ. We will execute it on **ibmq_essex** device, and set number of shots to out constant tosses.\n",
    "\n",
    "At the end we will measure a number of zero's and one's in the result as the final number of heads and tails."
   ]
  },
  {
   "cell_type": "markdown",
   "metadata": {},
   "source": [
    "```python\n",
    "from qiskit import QuantumCircuit\n",
    "from qiskit import IBMQ\n",
    "from qiskit.compiler import transpile, assemble\n",
    "\n",
    "IBMQ.load_account()\n",
    "\n",
    "qc = QuantumCircuit(1)  # quantum circuit with one qubit\n",
    "qc.h(0)  # applying Hadamard gate\n",
    "qc.measure_all()\n",
    "\n",
    "# Execute on IBMQ\n",
    "provider = IBMQ.get_provider(group='open')\n",
    "backend = provider.get_backend('ibmq_essex')\n",
    "transpiled_circs = transpile(qc, backend=backend)\n",
    "qobjs = assemble(transpiled_circs, backend=backend, shots=tosses)\n",
    "job_info = backend.run(qobjs)\n",
    "\n",
    "# Measure the results\n",
    "result = job_info.result().get_counts()\n",
    "heads = result['0']\n",
    "tails = result['1']\n",
    "```    "
   ]
  },
  {
   "cell_type": "markdown",
   "metadata": {},
   "source": [
    "#### Approach-3"
   ]
  },
  {
   "cell_type": "markdown",
   "metadata": {},
   "source": [
    "In the last third approach we will create a list with **tosses** number of elements. For each element in a list we will create a one qubit circuit, apply a Hadamard gate on it, and measure the result. \n",
    "\n",
    "This list of circuits will be executed on **ibmq_london** device, with default number of shots (1024).\n",
    "\n",
    "For each circuit in the list we will count the number of |0> and |1> and based on that increase the number of heads and tails in the final result."
   ]
  },
  {
   "cell_type": "markdown",
   "metadata": {},
   "source": [
    "```python\n",
    "from qiskit import QuantumCircuit\n",
    "from qiskit import IBMQ\n",
    "from qiskit.compiler import transpile, assemble\n",
    "\n",
    "qc_list = []\n",
    "\n",
    "IBMQ.load_account()\n",
    "\n",
    "for i in range(tosses):\n",
    "    qc = QuantumCircuit(1)  # quantum circuit with one qubit\n",
    "    qc.h(0)  # applying Hadamard gate\n",
    "    qc.measure_all()\n",
    "    qc_list.append(qc)\n",
    "\n",
    "# Execute a list of circuits\n",
    "provider = IBMQ.get_provider(group='open')\n",
    "backend = provider.get_backend('ibmq_london')\n",
    "transpiled_circs = transpile(qc_list, backend=backend)\n",
    "qobjs = assemble(transpiled_circs, backend=backend)\n",
    "job_info = backend.run(qobjs)\n",
    "\n",
    "# Measure the results\n",
    "for circ_index in range(len(transpiled_circs)):\n",
    "    result = job_info.result().get_counts(transpiled_circs[circ_index])\n",
    "    print(result)\n",
    "    heads_count = result['0']\n",
    "    tails_count = result['1']\n",
    "    if heads_count > tails_count:\n",
    "        heads = heads + 1\n",
    "    else:\n",
    "        tails = tails + 1\n",
    "```    "
   ]
  },
  {
   "cell_type": "markdown",
   "metadata": {},
   "source": [
    "All fully functional code is available on those links: [Approach-1](/code/flip_coin_game.py), [Approach-2](/code/flip_coin_game_2.py) and [Approach-3](/code/flip_coin_game_3.py)."
   ]
  }
 ],
 "metadata": {
  "kernelspec": {
   "display_name": "Python 3",
   "language": "python",
   "name": "python3"
  },
  "language_info": {
   "codemirror_mode": {
    "name": "ipython",
    "version": 3
   },
   "file_extension": ".py",
   "mimetype": "text/x-python",
   "name": "python",
   "nbconvert_exporter": "python",
   "pygments_lexer": "ipython3",
   "version": "3.8.5"
  }
 },
 "nbformat": 4,
 "nbformat_minor": 2
}
